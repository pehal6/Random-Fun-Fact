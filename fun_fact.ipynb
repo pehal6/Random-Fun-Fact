{
  "nbformat": 4,
  "nbformat_minor": 0,
  "metadata": {
    "colab": {
      "provenance": []
    },
    "kernelspec": {
      "name": "python3",
      "display_name": "Python 3"
    },
    "language_info": {
      "name": "python"
    }
  },
  "cells": [
    {
      "cell_type": "code",
      "source": [
        "import random\n",
        "\n",
        "def get_random_fact():\n",
        "    facts = [\n",
        "        \"Honey never spoils. Archaeologists have found 3,000-year-old honey in Egyptian tombs!\",\n",
        "        \"Bananas are berries, but strawberries are not.\",\n",
        "        \"Octopuses have three hearts.\",\n",
        "        \"Wombat poop is cube-shaped.\",\n",
        "        \"A group of flamingos is called a 'flamboyance'.\",\n",
        "        \"The Eiffel Tower can be 15 cm taller during the summer.\",\n",
        "        \"Sloths can hold their breath longer than dolphins.\",\n",
        "        \"Some cats are allergic to humans!\",\n",
        "        \"There are more stars in the universe than grains of sand on Earth.\",\n",
        "        \"The heart of a shrimp is located in its head.\"\n",
        "    ]\n",
        "    return random.choice(facts)\n",
        "\n",
        "if __name__ == \"__main__\":\n",
        "    print(\"🤔 Here's a random fun fact for you:\")\n",
        "    print(\"💡\", get_random_fact())\n"
      ],
      "metadata": {
        "id": "sXFoNH7n-d8s"
      },
      "execution_count": null,
      "outputs": []
    }
  ]
}